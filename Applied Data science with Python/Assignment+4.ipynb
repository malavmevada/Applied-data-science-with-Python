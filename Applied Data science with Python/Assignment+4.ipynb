{
 "cells": [
  {
   "cell_type": "markdown",
   "metadata": {},
   "source": [
    "---\n",
    "\n",
    "_You are currently looking at **version 1.1** of this notebook. To download notebooks and datafiles, as well as get help on Jupyter notebooks in the Coursera platform, visit the [Jupyter Notebook FAQ](https://www.coursera.org/learn/python-data-analysis/resources/0dhYG) course resource._\n",
    "\n",
    "---"
   ]
  },
  {
   "cell_type": "code",
   "execution_count": 1,
   "metadata": {},
   "outputs": [],
   "source": [
    "import pandas as pd\n",
    "import numpy as np\n",
    "from scipy.stats import ttest_ind\n",
    "pd.set_option('display.max_rows',300)"
   ]
  },
  {
   "cell_type": "markdown",
   "metadata": {},
   "source": [
    "# Assignment 4 - Hypothesis Testing\n",
    "This assignment requires more individual learning than previous assignments - you are encouraged to check out the [pandas documentation](http://pandas.pydata.org/pandas-docs/stable/) to find functions or methods you might not have used yet, or ask questions on [Stack Overflow](http://stackoverflow.com/) and tag them as pandas and python related. And of course, the discussion forums are open for interaction with your peers and the course staff.\n",
    "\n",
    "Definitions:\n",
    "* A _quarter_ is a specific three month period, Q1 is January through March, Q2 is April through June, Q3 is July through September, Q4 is October through December.\n",
    "* A _recession_ is defined as starting with two consecutive quarters of GDP decline, and ending with two consecutive quarters of GDP growth.\n",
    "* A _recession bottom_ is the quarter within a recession which had the lowest GDP.\n",
    "* A _university town_ is a city which has a high percentage of university students compared to the total population of the city.\n",
    "\n",
    "**Hypothesis**: University towns have their mean housing prices less effected by recessions. Run a t-test to compare the ratio of the mean price of houses in university towns the quarter before the recession starts compared to the recession bottom. (`price_ratio=quarter_before_recession/recession_bottom`)\n",
    "\n",
    "The following data files are available for this assignment:\n",
    "* From the [Zillow research data site](http://www.zillow.com/research/data/) there is housing data for the United States. In particular the datafile for [all homes at a city level](http://files.zillowstatic.com/research/public/City/City_Zhvi_AllHomes.csv), ```City_Zhvi_AllHomes.csv```, has median home sale prices at a fine grained level.\n",
    "* From the Wikipedia page on college towns is a list of [university towns in the United States](https://en.wikipedia.org/wiki/List_of_college_towns#College_towns_in_the_United_States) which has been copy and pasted into the file ```university_towns.txt```.\n",
    "* From Bureau of Economic Analysis, US Department of Commerce, the [GDP over time](http://www.bea.gov/national/index.htm#gdp) of the United States in current dollars (use the chained value in 2009 dollars), in quarterly intervals, in the file ```gdplev.xls```. For this assignment, only look at GDP data from the first quarter of 2000 onward.\n",
    "\n",
    "Each function in this assignment below is worth 10%, with the exception of ```run_ttest()```, which is worth 50%."
   ]
  },
  {
   "cell_type": "code",
   "execution_count": 2,
   "metadata": {},
   "outputs": [],
   "source": [
    "# Use this dictionary to map state names to two letter acronyms\n",
    "states = {'OH': 'Ohio', 'KY': 'Kentucky', 'AS': 'American Samoa', 'NV': 'Nevada', 'WY': 'Wyoming', 'NA': 'National', 'AL': 'Alabama', 'MD': 'Maryland', 'AK': 'Alaska', 'UT': 'Utah', 'OR': 'Oregon', 'MT': 'Montana', 'IL': 'Illinois', 'TN': 'Tennessee', 'DC': 'District of Columbia', 'VT': 'Vermont', 'ID': 'Idaho', 'AR': 'Arkansas', 'ME': 'Maine', 'WA': 'Washington', 'HI': 'Hawaii', 'WI': 'Wisconsin', 'MI': 'Michigan', 'IN': 'Indiana', 'NJ': 'New Jersey', 'AZ': 'Arizona', 'GU': 'Guam', 'MS': 'Mississippi', 'PR': 'Puerto Rico', 'NC': 'North Carolina', 'TX': 'Texas', 'SD': 'South Dakota', 'MP': 'Northern Mariana Islands', 'IA': 'Iowa', 'MO': 'Missouri', 'CT': 'Connecticut', 'WV': 'West Virginia', 'SC': 'South Carolina', 'LA': 'Louisiana', 'KS': 'Kansas', 'NY': 'New York', 'NE': 'Nebraska', 'OK': 'Oklahoma', 'FL': 'Florida', 'CA': 'California', 'CO': 'Colorado', 'PA': 'Pennsylvania', 'DE': 'Delaware', 'NM': 'New Mexico', 'RI': 'Rhode Island', 'MN': 'Minnesota', 'VI': 'Virgin Islands', 'NH': 'New Hampshire', 'MA': 'Massachusetts', 'GA': 'Georgia', 'ND': 'North Dakota', 'VA': 'Virginia'}"
   ]
  },
  {
   "cell_type": "code",
   "execution_count": 3,
   "metadata": {
    "scrolled": true,
    "umich_part_id": "021",
    "umich_partlist_id": "004"
   },
   "outputs": [],
   "source": [
    "def get_list_of_university_towns():\n",
    "    '''Returns a DataFrame of towns and the states they are in from the \n",
    "    university_towns.txt list. The format of the DataFrame should be:\n",
    "    DataFrame( [ [\"Michigan\", \"Ann Arbor\"], [\"Michigan\", \"Yipsilanti\"] ], \n",
    "    columns=[\"State\", \"RegionName\"]  )\n",
    "    \n",
    "    The following cleaning needs to be done:\n",
    "\n",
    "    1. For \"State\", removing characters from \"[\" to the end.\n",
    "    2. For \"RegionName\", when applicable, removing every character from \" (\" to the end.\n",
    "    3. Depending on how you read the data, you may need to remove newline character '\\n'. '''\n",
    "    \n",
    "    ut=pd.read_fwf('university_towns.txt')\n",
    "    states=['Alabama']\n",
    "    reg=[]\n",
    "    d=pd.DataFrame({'Alabama[edit]':'Alabama'},index=[0])\n",
    "    ut=pd.concat([d,ut]).reset_index(drop=True)\n",
    "    ut.columns=['name']\n",
    "\n",
    "    for index,row in ut.iterrows():\n",
    "        data=row['name']\n",
    "        new_data=''.join([i for i in data if not i.isdigit()])\n",
    "        i=new_data.find('[')\n",
    "        j=new_data.find('(')\n",
    "        if i>j and j==-1:\n",
    "            states.append(new_data[:i].strip())\n",
    "        else:\n",
    "            reg.append(new_data[:j].strip())\n",
    "\n",
    "    def chg(data):\n",
    "        new_data=''.join([i for i in data if not i.isdigit()])\n",
    "        i=new_data.find('[')\n",
    "        j=new_data.find('(')\n",
    "        if i>j and j==-1:\n",
    "            return new_data[:i].strip()\n",
    "        elif i==j:\n",
    "            return new_data.strip()\n",
    "        elif data=='Alabama':\n",
    "            return data\n",
    "        else:\n",
    "            return new_data[:j].strip()\n",
    "        \n",
    "    ut['name']=ut['name'].apply(chg)\n",
    "    lst=[]\n",
    "    j=0\n",
    "    ut.head(20)\n",
    "\n",
    "    for index,row in ut.iterrows():\n",
    "            if j<len(states) and  row['name']==states[j]:\n",
    "                lst.append(states[j])\n",
    "                if j<=len(states)-1:\n",
    "                    j=j+1       \n",
    "            elif j<=len(states):\n",
    "                lst.append(states[j-1])\n",
    "\n",
    "    ut['name'].head(20)\n",
    "    ut['st']=lst\n",
    "    ut.head(20)\n",
    "\n",
    "    ut=ut[ut.name!=ut['st']]\n",
    "    col_name='st'\n",
    "    fc=ut.pop(col_name)\n",
    "    ut.insert(0,col_name,fc)\n",
    "    ut.columns=[\"State\", \"RegionName\"]\n",
    "    ut.reset_index(drop=True,inplace=True)\n",
    "    \n",
    "    return ut\n"
   ]
  },
  {
   "cell_type": "code",
   "execution_count": 60,
   "metadata": {
    "umich_part_id": "022",
    "umich_partlist_id": "004"
   },
   "outputs": [],
   "source": [
    "def get_recession_start():\n",
    "    '''Returns the year and quarter of the recession start time as a \n",
    "    string value in a format such as 2005q3'''\n",
    "    rs=pd.read_excel('gdplev.xls',skiprows=7)[212:]\n",
    "    rs =rs[['Unnamed: 4','Unnamed: 5']]\n",
    "    rs=rs.reset_index(drop=True)\n",
    "    for index,row in rs.iterrows():\n",
    "        if rs.iloc[index+2][1]<rs.iloc[index+1][1] and rs.iloc[index+1][1] <rs.iloc[index][1]:\n",
    "            return rs.iloc[index][0]"
   ]
  },
  {
   "cell_type": "code",
   "execution_count": 78,
   "metadata": {
    "umich_part_id": "023",
    "umich_partlist_id": "004"
   },
   "outputs": [
    {
     "data": {
      "text/plain": [
       "'2009q4'"
      ]
     },
     "execution_count": 78,
     "metadata": {},
     "output_type": "execute_result"
    }
   ],
   "source": [
    "def get_recession_end ():\n",
    "    '''Returns the year and quarter of the recession end time as a \n",
    "    string value in a format such as 2005q3'''\n",
    "    rs=pd.read_excel('gdplev.xls',skiprows=7)[212:]\n",
    "    rs =rs[['Unnamed: 4','Unnamed: 5']]\n",
    "    rs=rs.reset_index(drop=True)\n",
    "    for index,row in rs.iterrows():\n",
    "        if rs.iloc[index+2][1]<rs.iloc[index+1][1] and rs.iloc[index+1][1] <rs.iloc[index][1]:\n",
    "            a=index\n",
    "            break\n",
    "    rs=rs[a:].reset_index(drop=True)\n",
    "    for index,row in rs.iterrows():\n",
    "        if rs.iloc[index][1]<rs.iloc[index+1][1] and rs.iloc[index+1][1]<rs.iloc[index+2][1]:\n",
    "            return rs.iloc[index+2][0]\n"
   ]
  },
  {
   "cell_type": "code",
   "execution_count": 80,
   "metadata": {
    "umich_part_id": "024",
    "umich_partlist_id": "004"
   },
   "outputs": [
    {
     "data": {
      "text/plain": [
       "'2009q2'"
      ]
     },
     "execution_count": 80,
     "metadata": {},
     "output_type": "execute_result"
    }
   ],
   "source": [
    "def get_recession_bottom():\n",
    "    rs=pd.read_excel('gdplev.xls',skiprows=7)[212:]\n",
    "    rs =rs[['Unnamed: 4','Unnamed: 5']]\n",
    "    rs=rs.reset_index(drop=True)\n",
    "    for index,row in rs.iterrows():\n",
    "        if rs.iloc[index+2][1]<rs.iloc[index+1][1] and rs.iloc[index+1][1] <rs.iloc[index][1]:\n",
    "            a=index\n",
    "            break\n",
    "    rs=rs[a:].reset_index(drop=True)\n",
    "    for index,row in rs.iterrows():\n",
    "        if rs.iloc[index][1]<rs.iloc[index+1][1]:\n",
    "            return rs.iloc[index][0]"
   ]
  },
  {
   "cell_type": "code",
   "execution_count": 138,
   "metadata": {
    "umich_part_id": "025",
    "umich_partlist_id": "004"
   },
   "outputs": [],
   "source": [
    "def convert_housing_data_to_quarters():\n",
    "    '''Converts the housing data to quarters and returns it as mean \n",
    "    values in a dataframe. This dataframe should be a dataframe with\n",
    "    columns for 2000q1 through 2016q3, and should have a multi-index\n",
    "    in the shape of [\"State\",\"RegionName\"].\n",
    "    \n",
    "    Note: Quarters are defined in the assignment description, they are\n",
    "    not arbitrary three month periods.\n",
    "    \n",
    "    The resulting dataframe should have 67 columns, and 10,730 rows.\n",
    "    '''\n",
    "    h=pd.read_csv('City_Zhvi_AllHomes.csv')\n",
    "    l=list(h.columns)\n",
    "    l=[i for i in l if i[0]!='1']\n",
    "    h=h[l]\n",
    "    h=h.drop(['RegionID','Metro','CountyName','SizeRank'],axis=1)\n",
    "    h=h.set_index(['State','RegionName'])\n",
    "    h=h.groupby(np.arange(len(h.columns))//3,axis=1).mean()\n",
    "    s=[]\n",
    "    for i in range(2000,2017):\n",
    "        s.append(str(i)+'q1')\n",
    "        s.append(str(i)+'q2')\n",
    "        s.append(str(i)+'q3')\n",
    "        s.append(str(i)+'q4')\n",
    "    h.columns=s[:-1]\n",
    "    h=h.rename(index=states)\n",
    "    return h"
   ]
  },
  {
   "cell_type": "code",
   "execution_count": 193,
   "metadata": {
    "umich_part_id": "026",
    "umich_partlist_id": "004"
   },
   "outputs": [
    {
     "data": {
      "text/plain": [
       "(True, 0.0031302524022853353, 'university town')"
      ]
     },
     "execution_count": 193,
     "metadata": {},
     "output_type": "execute_result"
    }
   ],
   "source": [
    "def run_ttest():\n",
    "    '''First creates new data showing the decline or growth of housing prices\n",
    "    between the recession start and the recession bottom. Then runs a ttest\n",
    "    comparing the university town values to the non-university towns values, \n",
    "    return whether the alternative hypothesis (that the two groups are the same)\n",
    "    is true or not as well as the p-value of the confidence. \n",
    "    \n",
    "    Return the tuple (different, p, better) where different=True if the t-test is\n",
    "    True at a p<0.01 (we reject the null hypothesis), or different=False if \n",
    "    otherwise (we cannot reject the null hypothesis). The variable p should\n",
    "    be equal to the exact p value returned from scipy.stats.ttest_ind(). The\n",
    "    value for better should be either \"university town\" or \"non-university town\"\n",
    "    depending on which has a lower mean price ratio (which is equivilent to a\n",
    "    reduced market loss).'''\n",
    "    utown=get_list_of_university_towns()\n",
    "    rstart=get_recession_start()\n",
    "    rbottom=get_recession_bottom()\n",
    "    h=convert_housing_data_to_quarters()\n",
    "    rbefore=h.columns[h.columns.get_loc(rstart)-1]\n",
    "    h['Priceratio']=h[rstart]-h[rbefore]\n",
    "    item_to_select=list(utown[['State']])\n",
    "    h=h[[rstart,rbottom,'Priceratio']].reset_index()\n",
    "    g1=pd.merge(utown,h,how='inner',on=['State','RegionName'])\n",
    "    g2=pd.merge(h,g1,how='outer',on=['State','RegionName',rstart,rbottom,'Priceratio'])\n",
    "    s,p=ttest_ind(g1['Priceratio'].dropna(),g2['Priceratio'].dropna())\n",
    "    different=True if p<0.01 else False\n",
    "    better=\"non-university town\" if g1['Priceratio'].mean()<g2['Priceratio'].mean() else 'university town'\n",
    "    return different,p,better"
   ]
  },
  {
   "cell_type": "code",
   "execution_count": 191,
   "metadata": {},
   "outputs": [],
   "source": []
  }
 ],
 "metadata": {
  "coursera": {
   "course_slug": "python-data-analysis",
   "graded_item_id": "Il9Fx",
   "launcher_item_id": "TeDW0",
   "part_id": "WGlun"
  },
  "kernelspec": {
   "display_name": "Python 3",
   "language": "python",
   "name": "python3"
  },
  "language_info": {
   "codemirror_mode": {
    "name": "ipython",
    "version": 3
   },
   "file_extension": ".py",
   "mimetype": "text/x-python",
   "name": "python",
   "nbconvert_exporter": "python",
   "pygments_lexer": "ipython3",
   "version": "3.8.3"
  },
  "umich": {
   "id": "Assignment 4",
   "version": "1.1"
  }
 },
 "nbformat": 4,
 "nbformat_minor": 1
}
